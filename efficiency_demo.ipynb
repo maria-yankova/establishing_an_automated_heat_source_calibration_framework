{
 "cells": [
  {
   "cell_type": "code",
   "execution_count": 10,
   "id": "7a8dd65e",
   "metadata": {},
   "outputs": [],
   "source": [
    "#import required libraries\n",
    "import csv\n",
    "import pandas as pd\n",
    "import glob\n",
    "import os\n",
    "import math\n",
    "import matplotlib.pyplot as plt\n",
    "import decimal\n",
    "from decimal import Decimal\n",
    "import numpy as np\n",
    "from IPython.display import clear_output\n",
    "import time\n",
    "\n",
    "from readers import read_tc_data\n",
    "from efficiency import calculate_temperature_rise, calculate_rms_error"
   ]
  },
  {
   "cell_type": "markdown",
   "id": "3388e6ba",
   "metadata": {},
   "source": [
    "## Set the working path"
   ]
  },
  {
   "cell_type": "code",
   "execution_count": 7,
   "id": "20ef8af7",
   "metadata": {},
   "outputs": [],
   "source": [
    "# General working path\n",
    "working_path = r'C:\\Users\\maria\\OneDrive - The University of Manchester\\code\\matsci-tools\\establishing_an_automated_heat_source_calibration_framework'\n",
    "\n",
    "# Efficiency test subpath\n",
    "subpath = 'tc_input'\n"
   ]
  },
  {
   "cell_type": "markdown",
   "id": "50f5760f",
   "metadata": {},
   "source": [
    "## Load experimental TC data"
   ]
  },
  {
   "cell_type": "code",
   "execution_count": 3,
   "id": "374a03a7",
   "metadata": {},
   "outputs": [],
   "source": [
    "file_path = os.path.join(working_path, subpath, 'experiment')\n",
    "exp_data_temp = read_tc_data(file_path)"
   ]
  },
  {
   "cell_type": "markdown",
   "id": "d850f3dd",
   "metadata": {},
   "source": [
    "## Load simulation TC data"
   ]
  },
  {
   "cell_type": "code",
   "execution_count": 4,
   "id": "3ca89471",
   "metadata": {},
   "outputs": [],
   "source": [
    "file_path = os.path.join(working_path, subpath, 'simulation')\n",
    "sim_data_temp = read_tc_data(file_path)\n",
    "\n",
    "efficiencies = []\n",
    "for sim_d in sim_data_temp:\n",
    "    efficiencies.append(\n",
    "        float(sim_d['file'][-8:-4])\n",
    "    )"
   ]
  },
  {
   "cell_type": "markdown",
   "id": "bef65e90",
   "metadata": {},
   "source": [
    "## Calculate temperature rise"
   ]
  },
  {
   "cell_type": "code",
   "execution_count": 5,
   "id": "e865f627",
   "metadata": {},
   "outputs": [],
   "source": [
    "exp_data_temp_rise = calculate_temperature_rise(exp_data_temp)\n",
    "sim_data_temp_rise = calculate_temperature_rise(sim_data_temp)"
   ]
  },
  {
   "cell_type": "markdown",
   "id": "f47a185f",
   "metadata": {},
   "source": [
    "## Calculate RMS error\n"
   ]
  },
  {
   "cell_type": "code",
   "execution_count": 6,
   "id": "24ecfd40",
   "metadata": {},
   "outputs": [],
   "source": [
    "# USER INPUT:\n",
    "# Choose thermocouple data to be included in the analysis:\n",
    "tc_names = ['TC5', 'TC7', 'TC8', 'TC12']"
   ]
  },
  {
   "cell_type": "code",
   "execution_count": 8,
   "id": "7a131fdd",
   "metadata": {},
   "outputs": [
    {
     "data": {
      "text/plain": [
       "Text(0, 0.5, 'RMSE')"
      ]
     },
     "execution_count": 8,
     "metadata": {},
     "output_type": "execute_result"
    },
    {
     "data": {
      "image/png": "[encoded data removed]",
      "text/plain": [
       "<Figure size 432x288 with 1 Axes>"
      ]
     },
     "metadata": {
      "needs_background": "light"
     },
     "output_type": "display_data"
    }
   ],
   "source": [
    "RMS_list = calculate_rms_error(exp_data_temp, sim_data_temp, tc_names=tc_names)\n",
    "\n",
    "plt.plot(efficiencies, RMS_list,'bo')\n",
    "plt.xlabel('efficiency')\n",
    "plt.ylabel('RMSE')"
   ]
  },
  {
   "cell_type": "code",
   "execution_count": 9,
   "id": "323c3db8",
   "metadata": {},
   "outputs": [
    {
     "data": {
      "text/plain": [
       "0.73"
      ]
     },
     "execution_count": 9,
     "metadata": {},
     "output_type": "execute_result"
    }
   ],
   "source": [
    "min_RMS = min(RMS_list)\n",
    "min_index = RMS_list.index(min_RMS)\n",
    "efficiencies[min_index]"
   ]
  },
  {
   "cell_type": "code",
   "execution_count": null,
   "id": "98456ca9",
   "metadata": {},
   "outputs": [],
   "source": []
  }
 ],
 "metadata": {
  "kernelspec": {
   "display_name": "Python 3 (ipykernel)",
   "language": "python",
   "name": "python3"
  },
  "language_info": {
   "codemirror_mode": {
    "name": "ipython",
    "version": 3
   },
   "file_extension": ".py",
   "mimetype": "text/x-python",
   "name": "python",
   "nbconvert_exporter": "python",
   "pygments_lexer": "ipython3",
   "version": "3.9.12"
  },
  "toc": {
   "base_numbering": 1,
   "nav_menu": {},
   "number_sections": true,
   "sideBar": true,
   "skip_h1_title": false,
   "title_cell": "Table of Contents",
   "title_sidebar": "Contents",
   "toc_cell": false,
   "toc_position": {},
   "toc_section_display": true,
   "toc_window_display": false
  }
 },
 "nbformat": 4,
 "nbformat_minor": 5
}
